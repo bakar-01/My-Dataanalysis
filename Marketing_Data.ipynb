{
 "cells": [
  {
   "cell_type": "markdown",
   "id": "94c73f6e",
   "metadata": {},
   "source": [
    "## PROBLEM OF STUDY\n",
    "### This week, you will be analyzing data for the Marketing team. GlobalShala has been running ad campaigns on Facebook for an event called Superhero U and the Marketing team needs your help identifying at least one campaign to recommend discontinuing in order to cut costs. At the end of the week, you will select one or more ad campaigns to recommend discontinuing based on your team’s analysis."
   ]
  },
  {
   "cell_type": "markdown",
   "id": "a28c9fed",
   "metadata": {},
   "source": [
    "# Importing Libraries"
   ]
  },
  {
   "cell_type": "code",
   "execution_count": 105,
   "id": "380d7163",
   "metadata": {},
   "outputs": [],
   "source": [
    "import pandas as pd\n",
    "import numpy as np\n",
    "import matplotlib.pyplot as plt\n",
    "import seaborn as sns\n",
    "import warnings as wr"
   ]
  },
  {
   "cell_type": "markdown",
   "id": "095d2409",
   "metadata": {},
   "source": [
    "# Loading the data"
   ]
  },
  {
   "cell_type": "code",
   "execution_count": 106,
   "id": "1d0b09fb",
   "metadata": {},
   "outputs": [
    {
     "data": {
      "text/html": [
       "<div>\n",
       "<style scoped>\n",
       "    .dataframe tbody tr th:only-of-type {\n",
       "        vertical-align: middle;\n",
       "    }\n",
       "\n",
       "    .dataframe tbody tr th {\n",
       "        vertical-align: top;\n",
       "    }\n",
       "\n",
       "    .dataframe thead th {\n",
       "        text-align: right;\n",
       "    }\n",
       "</style>\n",
       "<table border=\"1\" class=\"dataframe\">\n",
       "  <thead>\n",
       "    <tr style=\"text-align: right;\">\n",
       "      <th></th>\n",
       "      <th>campaign ID</th>\n",
       "      <th>Campaign Name</th>\n",
       "      <th>Audience</th>\n",
       "      <th>Age</th>\n",
       "      <th>Geography</th>\n",
       "      <th>Reach</th>\n",
       "      <th>Impressions</th>\n",
       "      <th>Frequency</th>\n",
       "      <th>Clicks</th>\n",
       "      <th>Unique Clicks</th>\n",
       "      <th>Unique Link Clic</th>\n",
       "      <th>Click-Through R</th>\n",
       "      <th>Unique Click-Thr</th>\n",
       "      <th>Amount Spent in</th>\n",
       "      <th>Cost Per Click (C</th>\n",
       "      <th>Cost per Result (</th>\n",
       "      <th>@dropdown</th>\n",
       "      <th>@dropdown.1</th>\n",
       "    </tr>\n",
       "  </thead>\n",
       "  <tbody>\n",
       "    <tr>\n",
       "      <th>0</th>\n",
       "      <td>Campaign 1</td>\n",
       "      <td>SHU_6 (Educato</td>\n",
       "      <td>Educators and P</td>\n",
       "      <td>25-34</td>\n",
       "      <td>Group 1 (Australi</td>\n",
       "      <td>11387</td>\n",
       "      <td>23283</td>\n",
       "      <td>2.044700</td>\n",
       "      <td>487</td>\n",
       "      <td>406</td>\n",
       "      <td>180</td>\n",
       "      <td>2.09</td>\n",
       "      <td>3.57</td>\n",
       "      <td>$1,092.24</td>\n",
       "      <td>$2.24</td>\n",
       "      <td>$6.07</td>\n",
       "      <td>NaN</td>\n",
       "      <td>NaN</td>\n",
       "    </tr>\n",
       "    <tr>\n",
       "      <th>1</th>\n",
       "      <td>Campaign 1</td>\n",
       "      <td>SHU_6 (Educato</td>\n",
       "      <td>Educators and P</td>\n",
       "      <td>35-44</td>\n",
       "      <td>Group 1 (Australi</td>\n",
       "      <td>8761</td>\n",
       "      <td>15683</td>\n",
       "      <td>1.790092</td>\n",
       "      <td>484</td>\n",
       "      <td>376</td>\n",
       "      <td>154</td>\n",
       "      <td>3.09</td>\n",
       "      <td>4.29</td>\n",
       "      <td>$835.46</td>\n",
       "      <td>$1.73</td>\n",
       "      <td>$5.43</td>\n",
       "      <td>NaN</td>\n",
       "      <td>NaN</td>\n",
       "    </tr>\n",
       "    <tr>\n",
       "      <th>2</th>\n",
       "      <td>Campaign 1</td>\n",
       "      <td>SHU_6 (Educato</td>\n",
       "      <td>Educators and P</td>\n",
       "      <td>45-54</td>\n",
       "      <td>Group 1 (Australi</td>\n",
       "      <td>2867</td>\n",
       "      <td>6283</td>\n",
       "      <td>2.191489</td>\n",
       "      <td>198</td>\n",
       "      <td>145</td>\n",
       "      <td>65</td>\n",
       "      <td>3.15</td>\n",
       "      <td>5.06</td>\n",
       "      <td>$319.38</td>\n",
       "      <td>$1.61</td>\n",
       "      <td>$4.91</td>\n",
       "      <td>NaN</td>\n",
       "      <td>NaN</td>\n",
       "    </tr>\n",
       "    <tr>\n",
       "      <th>3</th>\n",
       "      <td>Campaign 1</td>\n",
       "      <td>SHU_6 (Educato</td>\n",
       "      <td>Educators and P</td>\n",
       "      <td>55-64</td>\n",
       "      <td>Group 1 (Australi</td>\n",
       "      <td>889</td>\n",
       "      <td>1890</td>\n",
       "      <td>2.125984</td>\n",
       "      <td>49</td>\n",
       "      <td>40</td>\n",
       "      <td>21</td>\n",
       "      <td>2.59</td>\n",
       "      <td>4.50</td>\n",
       "      <td>$86.25</td>\n",
       "      <td>$1.76</td>\n",
       "      <td>$4.11</td>\n",
       "      <td>NaN</td>\n",
       "      <td>NaN</td>\n",
       "    </tr>\n",
       "    <tr>\n",
       "      <th>4</th>\n",
       "      <td>Campaign 2</td>\n",
       "      <td>SHU3_ (Student</td>\n",
       "      <td>Students</td>\n",
       "      <td>18-24</td>\n",
       "      <td>Group 2 (Australi</td>\n",
       "      <td>29675</td>\n",
       "      <td>39161</td>\n",
       "      <td>1.319663</td>\n",
       "      <td>2593</td>\n",
       "      <td>1994</td>\n",
       "      <td>1095</td>\n",
       "      <td>6.62</td>\n",
       "      <td>6.72</td>\n",
       "      <td>$1,193.94</td>\n",
       "      <td>$0.46</td>\n",
       "      <td>$1.09</td>\n",
       "      <td>NaN</td>\n",
       "      <td>NaN</td>\n",
       "    </tr>\n",
       "  </tbody>\n",
       "</table>\n",
       "</div>"
      ],
      "text/plain": [
       "  campaign ID   Campaign Name         Audience    Age          Geography  \\\n",
       "0  Campaign 1  SHU_6 (Educato  Educators and P  25-34  Group 1 (Australi   \n",
       "1  Campaign 1  SHU_6 (Educato  Educators and P  35-44  Group 1 (Australi   \n",
       "2  Campaign 1  SHU_6 (Educato  Educators and P  45-54  Group 1 (Australi   \n",
       "3  Campaign 1  SHU_6 (Educato  Educators and P  55-64  Group 1 (Australi   \n",
       "4  Campaign 2  SHU3_ (Student         Students  18-24  Group 2 (Australi   \n",
       "\n",
       "   Reach  Impressions  Frequency  Clicks  Unique Clicks  Unique Link Clic  \\\n",
       "0  11387        23283   2.044700     487            406               180   \n",
       "1   8761        15683   1.790092     484            376               154   \n",
       "2   2867         6283   2.191489     198            145                65   \n",
       "3    889         1890   2.125984      49             40                21   \n",
       "4  29675        39161   1.319663    2593           1994              1095   \n",
       "\n",
       "   Click-Through R  Unique Click-Thr Amount Spent in Cost Per Click (C  \\\n",
       "0             2.09              3.57       $1,092.24             $2.24   \n",
       "1             3.09              4.29         $835.46             $1.73   \n",
       "2             3.15              5.06         $319.38             $1.61   \n",
       "3             2.59              4.50          $86.25             $1.76   \n",
       "4             6.62              6.72       $1,193.94             $0.46   \n",
       "\n",
       "  Cost per Result (  @dropdown  @dropdown.1  \n",
       "0             $6.07        NaN          NaN  \n",
       "1             $5.43        NaN          NaN  \n",
       "2             $4.91        NaN          NaN  \n",
       "3             $4.11        NaN          NaN  \n",
       "4             $1.09        NaN          NaN  "
      ]
     },
     "execution_count": 106,
     "metadata": {},
     "output_type": "execute_result"
    }
   ],
   "source": [
    "df = pd.read_excel(\"Marketing_Data.xlsx\")\n",
    "df.head()\n"
   ]
  },
  {
   "cell_type": "markdown",
   "id": "3e29767b",
   "metadata": {},
   "source": [
    "## Viewing most part of the dataset"
   ]
  },
  {
   "cell_type": "code",
   "execution_count": 107,
   "id": "4383c29d",
   "metadata": {},
   "outputs": [
    {
     "name": "stdout",
     "output_type": "stream",
     "text": [
      "    campaign ID    Campaign Name         Audience    Age          Geography  Reach  Impressions  Frequency  Clicks  Unique Clicks  Unique Link Clic  Click-Through R  Unique Click-Thr Amount Spent in Cost Per Click (C Cost per Result (  @dropdown  @dropdown.1\n",
      "0    Campaign 1   SHU_6 (Educato  Educators and P  25-34  Group 1 (Australi  11387        23283   2.044700     487            406               180             2.09              3.57       $1,092.24             $2.24             $6.07        NaN          NaN\n",
      "1    Campaign 1   SHU_6 (Educato  Educators and P  35-44  Group 1 (Australi   8761        15683   1.790092     484            376               154             3.09              4.29         $835.46             $1.73             $5.43        NaN          NaN\n",
      "2    Campaign 1   SHU_6 (Educato  Educators and P  45-54  Group 1 (Australi   2867         6283   2.191489     198            145                65             3.15              5.06         $319.38             $1.61             $4.91        NaN          NaN\n",
      "3    Campaign 1   SHU_6 (Educato  Educators and P  55-64  Group 1 (Australi    889         1890   2.125984      49             40                21             2.59              4.50          $86.25             $1.76             $4.11        NaN          NaN\n",
      "4    Campaign 2   SHU3_ (Student         Students  18-24  Group 2 (Australi  29675        39161   1.319663    2593           1994              1095             6.62              6.72       $1,193.94             $0.46             $1.09        NaN          NaN\n",
      "5    Campaign 2   SHU3_ (Student         Students  13-17  Group 2 (Australi  14753        25705   1.742357     969            698               435             3.77              4.73         $299.51             $0.31             $0.69        NaN          NaN\n",
      "6    Campaign 2   SHU3_ (Student         Students  25-34  Group 2 (Australi   2066         2447   1.184414     181            141                65             7.40              6.82          $85.57             $0.47             $1.32        NaN          NaN\n",
      "7    Campaign 3   SHU_Students(A         Students  13-17          Australia   2271         2616   1.151915      61             55                28             2.33              2.42         $475.85             $7.80            $16.99        NaN          NaN\n",
      "8    Campaign 3   SHU_Students(A         Students  18-24          Australia    704          734   1.042614      49             46                13             6.68              6.53         $283.17             $5.78            $21.78        NaN          NaN\n",
      "9    Campaign 3   SHU_Students(A         Students  25-34          Australia    212          222   1.047170       9              8                 3             4.05              3.77          $91.66            $10.18            $30.55        NaN          NaN\n",
      "10   Campaign 4   SHU_Students (         Students  13-17             Canada   2330         3146   1.350215     101             84                63             3.21              3.61         $528.08             $5.23             $8.38        NaN          NaN\n",
      "11   Campaign 4   SHU_Students (         Students  18-24             Canada    759          878   1.156785      52             44                34             5.92              5.80         $294.82             $5.67             $8.67        NaN          NaN\n",
      "12   Campaign 4   SHU_Students (         Students  25-34             Canada    218          243   1.114679      18             18                15             7.41              8.26         $101.06             $5.61             $6.74        NaN          NaN\n",
      "13   Campaign 5   SHU_Students(G         Students  18-24              Ghana   5952         6943   1.166499     284            238                98             4.09              4.00         $378.10             $1.33             $3.86        NaN          NaN\n",
      "14   Campaign 5   SHU_Students(G         Students  25-34              Ghana   3717         4620   1.242938     184            160                46             3.98              4.30         $282.22             $1.53             $6.14        NaN          NaN\n",
      "15   Campaign 5   SHU_Students(G         Students  13-17              Ghana   5355         8920   1.665733     180            154                93             2.02              2.88         $177.46             $0.99             $1.91        NaN          NaN\n",
      "16   Campaign 6  SHU_Students (I         Students  18-24              India  30110        35372   1.174759    1308           1162               934             3.70              3.86         $894.00             $0.68             $0.96        NaN          NaN\n",
      "17   Campaign 6  SHU_Students (I         Students  25-34              India   1721         1874   1.088902      92             76                53             4.91              4.42          $61.21             $0.67             $1.15        NaN          NaN\n",
      "18   Campaign 7   SHU_Students(N         Students  18-24              Nepal  18900        36659   1.939630     849            688               306             2.32              3.64         $634.64             $0.75             $2.07        NaN          NaN\n",
      "19   Campaign 7   SHU_Students(N         Students  13-17              Nepal   6145        19474   3.169081     325            246               129             1.67              4.00         $211.76             $0.65             $1.64        NaN          NaN\n",
      "20   Campaign 7   SHU_Students(N         Students  25-34              Nepal   4623         9082   1.964525     246            212                83             2.71              4.59         $188.84             $0.77             $2.28        NaN          NaN\n",
      "21   Campaign 8   SHU_Students (         Students  18-24            Nigeria  11027        13820   1.253287    1491           1132               548            10.79             10.27         $542.67             $0.36             $0.99        NaN          NaN\n",
      "22   Campaign 8   SHU_Students (         Students  13-17            Nigeria   8516        12372   1.452795     970            696               408             7.84              8.17         $282.21             $0.29             $0.69        NaN          NaN\n",
      "23   Campaign 8   SHU_Students (         Students  25-34            Nigeria   2386         2782   1.165968     304            230               117            10.93              9.64         $117.90             $0.39             $1.01        NaN          NaN\n",
      "24   Campaign 9   SHU_Students(U         Students  25-34                UAE   2892         3347   1.157331     135            102                41             4.03              3.53         $455.49             $3.37            $11.11        NaN          NaN\n",
      "25   Campaign 9   SHU_Students(U         Students  18-24                UAE   2862         3234   1.129979      72             60                27             2.23              2.10         $316.14             $4.39            $11.71        NaN          NaN\n",
      "26   Campaign 9   SHU_Students(U         Students  13-17                UAE   1579         2079   1.316656      35             32                20             1.68              2.03         $104.63             $2.99             $5.23        NaN          NaN\n",
      "27  Campaign 10   SHU_Students(U         Students  13-17                 UK   2557         2941   1.150176      69             60                33             2.35              2.35         $487.52             $7.07            $14.77        NaN          NaN\n",
      "28  Campaign 10   SHU_Students(U         Students  18-24                 UK    741          785   1.059379      39             34                20             4.97              4.59         $255.57             $6.55            $12.78        NaN          NaN\n",
      "29  Campaign 10   SHU_Students(U         Students  25-34                 UK    338          365   1.079882      13             11                 4             3.56              3.25         $113.58             $8.74            $28.40        NaN          NaN\n",
      "30  Campaign 11   SHU_Students (         Students  13-17                USA   2159         2465   1.141732     126            111                95             5.11              5.14         $691.28             $5.49             $7.28        NaN          NaN\n",
      "31  Campaign 11   SHU_Students (         Students  18-24                USA    305          332   1.088525      43             37                28            12.95             12.13         $159.14             $3.70             $5.68        NaN          NaN\n",
      "32  Campaign 11   SHU_Students (         Students  25-34                USA     91          103   1.131868       9              8                 3             8.74              8.79          $47.26             $5.25            $15.75        NaN          NaN\n"
     ]
    }
   ],
   "source": [
    "print(df.to_string())"
   ]
  },
  {
   "cell_type": "markdown",
   "id": "86f1bd3a",
   "metadata": {},
   "source": [
    "## Getting the information of the data"
   ]
  },
  {
   "cell_type": "code",
   "execution_count": 108,
   "id": "5f5f5a53",
   "metadata": {},
   "outputs": [
    {
     "name": "stdout",
     "output_type": "stream",
     "text": [
      "<class 'pandas.core.frame.DataFrame'>\n",
      "RangeIndex: 33 entries, 0 to 32\n",
      "Data columns (total 18 columns):\n",
      " #   Column             Non-Null Count  Dtype  \n",
      "---  ------             --------------  -----  \n",
      " 0   campaign ID        33 non-null     object \n",
      " 1   Campaign Name      33 non-null     object \n",
      " 2   Audience           33 non-null     object \n",
      " 3   Age                33 non-null     object \n",
      " 4   Geography          33 non-null     object \n",
      " 5   Reach              33 non-null     int64  \n",
      " 6   Impressions        33 non-null     int64  \n",
      " 7   Frequency          33 non-null     float64\n",
      " 8   Clicks             33 non-null     int64  \n",
      " 9   Unique Clicks      33 non-null     int64  \n",
      " 10  Unique Link Clic   33 non-null     int64  \n",
      " 11  Click-Through R    33 non-null     float64\n",
      " 12  Unique Click-Thr   33 non-null     float64\n",
      " 13  Amount Spent in    33 non-null     object \n",
      " 14  Cost Per Click (C  33 non-null     object \n",
      " 15  Cost per Result (  33 non-null     object \n",
      " 16  @dropdown          0 non-null      float64\n",
      " 17  @dropdown.1        0 non-null      float64\n",
      "dtypes: float64(5), int64(5), object(8)\n",
      "memory usage: 4.8+ KB\n"
     ]
    }
   ],
   "source": [
    "df.info()\n"
   ]
  },
  {
   "cell_type": "markdown",
   "id": "57015d00",
   "metadata": {},
   "source": [
    "#### Checking dublicates in the dataset"
   ]
  },
  {
   "cell_type": "code",
   "execution_count": 109,
   "id": "c960a535",
   "metadata": {},
   "outputs": [],
   "source": [
    "#print(df.duplicated())"
   ]
  },
  {
   "cell_type": "markdown",
   "id": "a136876a",
   "metadata": {},
   "source": [
    "### Dropping all columns whose value equal to 'NaN'"
   ]
  },
  {
   "cell_type": "code",
   "execution_count": 110,
   "id": "b4a3204f",
   "metadata": {},
   "outputs": [
    {
     "name": "stdout",
     "output_type": "stream",
     "text": [
      "    campaign ID    Campaign Name         Audience    Age          Geography  Reach  Impressions  Frequency  Clicks  Unique Clicks  Unique Link Clic  Click-Through R  Unique Click-Thr Amount Spent in Cost Per Click (C Cost per Result (\n",
      "0    Campaign 1   SHU_6 (Educato  Educators and P  25-34  Group 1 (Australi  11387        23283   2.044700     487            406               180             2.09              3.57       $1,092.24             $2.24             $6.07\n",
      "1    Campaign 1   SHU_6 (Educato  Educators and P  35-44  Group 1 (Australi   8761        15683   1.790092     484            376               154             3.09              4.29         $835.46             $1.73             $5.43\n",
      "2    Campaign 1   SHU_6 (Educato  Educators and P  45-54  Group 1 (Australi   2867         6283   2.191489     198            145                65             3.15              5.06         $319.38             $1.61             $4.91\n",
      "3    Campaign 1   SHU_6 (Educato  Educators and P  55-64  Group 1 (Australi    889         1890   2.125984      49             40                21             2.59              4.50          $86.25             $1.76             $4.11\n",
      "4    Campaign 2   SHU3_ (Student         Students  18-24  Group 2 (Australi  29675        39161   1.319663    2593           1994              1095             6.62              6.72       $1,193.94             $0.46             $1.09\n",
      "5    Campaign 2   SHU3_ (Student         Students  13-17  Group 2 (Australi  14753        25705   1.742357     969            698               435             3.77              4.73         $299.51             $0.31             $0.69\n",
      "6    Campaign 2   SHU3_ (Student         Students  25-34  Group 2 (Australi   2066         2447   1.184414     181            141                65             7.40              6.82          $85.57             $0.47             $1.32\n",
      "7    Campaign 3   SHU_Students(A         Students  13-17          Australia   2271         2616   1.151915      61             55                28             2.33              2.42         $475.85             $7.80            $16.99\n",
      "8    Campaign 3   SHU_Students(A         Students  18-24          Australia    704          734   1.042614      49             46                13             6.68              6.53         $283.17             $5.78            $21.78\n",
      "9    Campaign 3   SHU_Students(A         Students  25-34          Australia    212          222   1.047170       9              8                 3             4.05              3.77          $91.66            $10.18            $30.55\n",
      "10   Campaign 4   SHU_Students (         Students  13-17             Canada   2330         3146   1.350215     101             84                63             3.21              3.61         $528.08             $5.23             $8.38\n",
      "11   Campaign 4   SHU_Students (         Students  18-24             Canada    759          878   1.156785      52             44                34             5.92              5.80         $294.82             $5.67             $8.67\n",
      "12   Campaign 4   SHU_Students (         Students  25-34             Canada    218          243   1.114679      18             18                15             7.41              8.26         $101.06             $5.61             $6.74\n",
      "13   Campaign 5   SHU_Students(G         Students  18-24              Ghana   5952         6943   1.166499     284            238                98             4.09              4.00         $378.10             $1.33             $3.86\n",
      "14   Campaign 5   SHU_Students(G         Students  25-34              Ghana   3717         4620   1.242938     184            160                46             3.98              4.30         $282.22             $1.53             $6.14\n",
      "15   Campaign 5   SHU_Students(G         Students  13-17              Ghana   5355         8920   1.665733     180            154                93             2.02              2.88         $177.46             $0.99             $1.91\n",
      "16   Campaign 6  SHU_Students (I         Students  18-24              India  30110        35372   1.174759    1308           1162               934             3.70              3.86         $894.00             $0.68             $0.96\n",
      "17   Campaign 6  SHU_Students (I         Students  25-34              India   1721         1874   1.088902      92             76                53             4.91              4.42          $61.21             $0.67             $1.15\n",
      "18   Campaign 7   SHU_Students(N         Students  18-24              Nepal  18900        36659   1.939630     849            688               306             2.32              3.64         $634.64             $0.75             $2.07\n",
      "19   Campaign 7   SHU_Students(N         Students  13-17              Nepal   6145        19474   3.169081     325            246               129             1.67              4.00         $211.76             $0.65             $1.64\n",
      "20   Campaign 7   SHU_Students(N         Students  25-34              Nepal   4623         9082   1.964525     246            212                83             2.71              4.59         $188.84             $0.77             $2.28\n",
      "21   Campaign 8   SHU_Students (         Students  18-24            Nigeria  11027        13820   1.253287    1491           1132               548            10.79             10.27         $542.67             $0.36             $0.99\n",
      "22   Campaign 8   SHU_Students (         Students  13-17            Nigeria   8516        12372   1.452795     970            696               408             7.84              8.17         $282.21             $0.29             $0.69\n",
      "23   Campaign 8   SHU_Students (         Students  25-34            Nigeria   2386         2782   1.165968     304            230               117            10.93              9.64         $117.90             $0.39             $1.01\n",
      "24   Campaign 9   SHU_Students(U         Students  25-34                UAE   2892         3347   1.157331     135            102                41             4.03              3.53         $455.49             $3.37            $11.11\n",
      "25   Campaign 9   SHU_Students(U         Students  18-24                UAE   2862         3234   1.129979      72             60                27             2.23              2.10         $316.14             $4.39            $11.71\n",
      "26   Campaign 9   SHU_Students(U         Students  13-17                UAE   1579         2079   1.316656      35             32                20             1.68              2.03         $104.63             $2.99             $5.23\n",
      "27  Campaign 10   SHU_Students(U         Students  13-17                 UK   2557         2941   1.150176      69             60                33             2.35              2.35         $487.52             $7.07            $14.77\n",
      "28  Campaign 10   SHU_Students(U         Students  18-24                 UK    741          785   1.059379      39             34                20             4.97              4.59         $255.57             $6.55            $12.78\n",
      "29  Campaign 10   SHU_Students(U         Students  25-34                 UK    338          365   1.079882      13             11                 4             3.56              3.25         $113.58             $8.74            $28.40\n",
      "30  Campaign 11   SHU_Students (         Students  13-17                USA   2159         2465   1.141732     126            111                95             5.11              5.14         $691.28             $5.49             $7.28\n",
      "31  Campaign 11   SHU_Students (         Students  18-24                USA    305          332   1.088525      43             37                28            12.95             12.13         $159.14             $3.70             $5.68\n",
      "32  Campaign 11   SHU_Students (         Students  25-34                USA     91          103   1.131868       9              8                 3             8.74              8.79          $47.26             $5.25            $15.75\n"
     ]
    }
   ],
   "source": [
    "df.dropna(axis=1, how = 'all', inplace=True)\n",
    "print(df.to_string())"
   ]
  },
  {
   "cell_type": "code",
   "execution_count": 111,
   "id": "eff2d1d3",
   "metadata": {},
   "outputs": [
    {
     "name": "stdout",
     "output_type": "stream",
     "text": [
      "<class 'pandas.core.frame.DataFrame'>\n",
      "RangeIndex: 33 entries, 0 to 32\n",
      "Data columns (total 16 columns):\n",
      " #   Column             Non-Null Count  Dtype  \n",
      "---  ------             --------------  -----  \n",
      " 0   campaign ID        33 non-null     object \n",
      " 1   Campaign Name      33 non-null     object \n",
      " 2   Audience           33 non-null     object \n",
      " 3   Age                33 non-null     object \n",
      " 4   Geography          33 non-null     object \n",
      " 5   Reach              33 non-null     int64  \n",
      " 6   Impressions        33 non-null     int64  \n",
      " 7   Frequency          33 non-null     float64\n",
      " 8   Clicks             33 non-null     int64  \n",
      " 9   Unique Clicks      33 non-null     int64  \n",
      " 10  Unique Link Clic   33 non-null     int64  \n",
      " 11  Click-Through R    33 non-null     float64\n",
      " 12  Unique Click-Thr   33 non-null     float64\n",
      " 13  Amount Spent in    33 non-null     object \n",
      " 14  Cost Per Click (C  33 non-null     object \n",
      " 15  Cost per Result (  33 non-null     object \n",
      "dtypes: float64(3), int64(5), object(8)\n",
      "memory usage: 4.3+ KB\n",
      "None\n"
     ]
    }
   ],
   "source": [
    "print(df.info())"
   ]
  },
  {
   "cell_type": "markdown",
   "id": "b3ef5aa8",
   "metadata": {},
   "source": [
    "## Finding correlation in the dataset"
   ]
  },
  {
   "cell_type": "code",
   "execution_count": 112,
   "id": "4dfd87ed",
   "metadata": {},
   "outputs": [
    {
     "name": "stdout",
     "output_type": "stream",
     "text": [
      "                     Reach  Impressions  Frequency    Clicks  Unique Clicks  \\\n",
      "Reach             1.000000     0.954161   0.190143  0.895300       0.918396   \n",
      "Impressions       0.954161     1.000000   0.415266  0.830217       0.846363   \n",
      "Frequency         0.190143     0.415266   1.000000  0.110370       0.103685   \n",
      "Clicks            0.895300     0.830217   0.110370  1.000000       0.997378   \n",
      "Unique Clicks     0.918396     0.846363   0.103685  0.997378       1.000000   \n",
      "Unique Link Clic  0.940743     0.837661   0.056021  0.962116       0.974685   \n",
      "Click-Through R  -0.083845    -0.183359  -0.437479  0.173884       0.155438   \n",
      "Unique Click-Thr -0.034556    -0.083864  -0.200013  0.218590       0.197706   \n",
      "\n",
      "                  Unique Link Clic  Click-Through R  Unique Click-Thr  \n",
      "Reach                     0.940743        -0.083845         -0.034556  \n",
      "Impressions               0.837661        -0.183359         -0.083864  \n",
      "Frequency                 0.056021        -0.437479         -0.200013  \n",
      "Clicks                    0.962116         0.173884          0.218590  \n",
      "Unique Clicks             0.974685         0.155438          0.197706  \n",
      "Unique Link Clic          1.000000         0.133640          0.162622  \n",
      "Click-Through R           0.133640         1.000000          0.958489  \n",
      "Unique Click-Thr          0.162622         0.958489          1.000000  \n"
     ]
    }
   ],
   "source": [
    "print(df.corr(numeric_only=True))"
   ]
  },
  {
   "cell_type": "markdown",
   "id": "2b6d36df",
   "metadata": {},
   "source": [
    "## Scatter plot on the Relationship between Reach and Clicks"
   ]
  },
  {
   "cell_type": "code",
   "execution_count": 113,
   "id": "93e22436",
   "metadata": {},
   "outputs": [
    {
     "data": {
      "text/plain": [
       "[]"
      ]
     },
     "execution_count": 113,
     "metadata": {},
     "output_type": "execute_result"
    },
    {
     "data": {
      "image/png": "[encoded data removed]",
      "text/plain": [
       "<Figure size 640x480 with 1 Axes>"
      ]
     },
     "metadata": {},
     "output_type": "display_data"
    }
   ],
   "source": [
    "df.plot(kind='scatter', x= 'Reach', y= 'Clicks')\n",
    "plt.plot()"
   ]
  }
 ],
 "metadata": {
  "kernelspec": {
   "display_name": "Python 3",
   "language": "python",
   "name": "python3"
  },
  "language_info": {
   "codemirror_mode": {
    "name": "ipython",
    "version": 3
   },
   "file_extension": ".py",
   "mimetype": "text/x-python",
   "name": "python",
   "nbconvert_exporter": "python",
   "pygments_lexer": "ipython3",
   "version": "3.13.2"
  }
 },
 "nbformat": 4,
 "nbformat_minor": 5
}
